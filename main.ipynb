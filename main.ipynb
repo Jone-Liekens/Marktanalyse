{
 "cells": [
  {
   "cell_type": "code",
   "execution_count": 18,
   "metadata": {},
   "outputs": [
    {
     "name": "stdout",
     "output_type": "stream",
     "text": [
      "The autoreload extension is already loaded. To reload it, use:\n",
      "  %reload_ext autoreload\n"
     ]
    }
   ],
   "source": [
    "%load_ext autoreload\n",
    "%autoreload 2\n"
   ]
  },
  {
   "cell_type": "code",
   "execution_count": 19,
   "metadata": {},
   "outputs": [
    {
     "name": "stdout",
     "output_type": "stream",
     "text": [
      "['id', 'external_id', 'external_reference', 'earliest_start_date', 'latest_reaction_date', 'submit_date', 'title', 'customer', 'customer_department', 'location_of_activity', 'contract_type', 'allowed_to_bid', 'platform', 'project_request_reference', 'project_request_title', 'request_category', 'number_of_proposals', 'cost_center', 'nb_of_people', 'details_id', 'useless_column']\n",
      "[(19882, 170911772599486955, 'FLU003214', datetime.date(2024, 4, 11), datetime.date(2024, 3, 7), datetime.date(2024, 2, 29), 'Teamaanvraag energiedelen', 'Fluvius', 'Teamaanvraag', 'Melle', 'Time & Material', True, 'Marktplaats', '', '', 'Teamaanvraag', 0, 'ICT beheer (AIT)', 5, 5379, None), (17508, 168873435324745335, 'FLU002916', datetime.date(2023, 9, 11), datetime.date(2023, 8, 8), datetime.date(2023, 8, 1), 'Teamaanvraag: Ondersteuning in het opzetten van een wendbare digitale organisatie gericht op de klant', 'Fluvius', 'Teamaanvraag', 'Melle', 'Time & Material', True, 'Marktplaats', '', '', 'Teamaanvraag', 0, 'Bedrijfstransformatie (ABT)', 4, 5383, None), (16889, 168414314111993217, 'SBG000234', datetime.date(2023, 6, 1), datetime.date(2023, 5, 26), datetime.date(2023, 5, 17), 'TEAM REQUEST - Consultants Optimalisation Supply Chain', 'Sibelga', 'Teamaanvraag', 'Werkhuizenkaai 16 - 1000 Brussel', 'Time & Material', True, 'Marktplaats', '', '', 'Teamaanvraag', 0, '', 2, 5385, None), (16709, 167947687946380292, 'FLU002808', datetime.date(2023, 6, 6), datetime.date(2023, 5, 4), datetime.date(2023, 4, 27), 'Teamafroep testing Marktwerking', 'Fluvius', 'Teamaanvraag', 'Melle', 'Time & Material', True, 'Marktplaats', '', '', 'Teamaanvraag', 0, 'Bedrijfstransformatie (ABT)', 4, 5387, None), (16265, 167783377587800989, 'HAV000333', datetime.date(2023, 3, 13), datetime.date(2023, 3, 10), datetime.date(2023, 3, 9), 'Junior JAVA Ontwikkelaar', 'Haven van Antwerpen-Brugge', 'Profiel', 'Zaha Hadidplein', 'Raamcontract 2022 - 2027 (Lot 1)', True, 'Marktplaats', '', '', 'Profiel', 0, '', 1, 5388, None)]\n",
      "19882\n",
      "170911772599486955\n",
      "FLU003214\n",
      "2024-04-11\n",
      "2024-03-07\n",
      "2024-02-29\n",
      "Teamaanvraag energiedelen\n",
      "Fluvius\n",
      "Teamaanvraag\n",
      "Melle\n",
      "Time & Material\n",
      "True\n",
      "Marktplaats\n",
      "\n",
      "\n",
      "Teamaanvraag\n",
      "0\n",
      "ICT beheer (AIT)\n",
      "5\n",
      "5379\n",
      "None\n"
     ]
    }
   ],
   "source": [
    "\n",
    "from simple_sql import execute_sql\n",
    "\n",
    "\n",
    "s = execute_sql(\"SELECT * FROM rfq_request LIMIT 5\")\n",
    "\n",
    "print(s)\n",
    "\n",
    "for elem in s[0]:\n",
    "    print(elem)"
   ]
  },
  {
   "cell_type": "code",
   "execution_count": null,
   "metadata": {},
   "outputs": [
    {
     "name": "stdout",
     "output_type": "stream",
     "text": [
      "\n",
      "['id', 'external_id', 'external_reference', 'earliest_start_date', 'latest_reaction_date', 'submit_date', 'title', 'customer', 'customer_department', 'location_of_activity', 'contract_type', 'allowed_to_bid', 'platform', 'project_request_reference', 'project_request_title', 'request_category', 'number_of_proposals', 'cost_center', 'nb_of_people', 'details_id', 'useless_column']\n"
     ]
    }
   ],
   "source": [
    "execute_sql(\"ALTER TABLE rfq_request ADD useless varchar(255);\")\n",
    "\n",
    "s = execute_sql(\"SELECT * FROM rfq_request LIMIT 5\")[-4:]\n"
   ]
  }
 ],
 "metadata": {
  "kernelspec": {
   "display_name": "Python 3",
   "language": "python",
   "name": "python3"
  },
  "language_info": {
   "codemirror_mode": {
    "name": "ipython",
    "version": 3
   },
   "file_extension": ".py",
   "mimetype": "text/x-python",
   "name": "python",
   "nbconvert_exporter": "python",
   "pygments_lexer": "ipython3",
   "version": "3.9.6"
  }
 },
 "nbformat": 4,
 "nbformat_minor": 2
}
